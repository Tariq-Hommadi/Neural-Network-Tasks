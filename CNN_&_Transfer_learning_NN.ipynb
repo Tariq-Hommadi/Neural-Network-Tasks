{
  "cells": [
    {
      "cell_type": "code",
      "execution_count": null,
      "metadata": {
        "colab": {
          "base_uri": "https://localhost:8080/"
        },
        "id": "EmiGJh4pQDyk",
        "outputId": "bc76b604-72f9-4f86-8c8f-b64ac6b06e5f"
      },
      "outputs": [
        {
          "name": "stdout",
          "output_type": "stream",
          "text": [
            "Collecting git+https://github.com/ncullen93/torchsample\n",
            "  Cloning https://github.com/ncullen93/torchsample to /tmp/pip-req-build-pzb22p6k\n",
            "  Running command git clone -q https://github.com/ncullen93/torchsample /tmp/pip-req-build-pzb22p6k\n"
          ]
        }
      ],
      "source": [
        "# importing the libraries\n",
        "import pandas as pd\n",
        "import numpy as np\n",
        "\n",
        "import os\n",
        "from torchvision.datasets import ImageFolder\n",
        "import torchvision.transforms as transforms\n",
        "from torch.utils.data import Dataset, DataLoader\n",
        "import pathlib\n",
        "import time\n",
        "import random\n",
        "import torchvision.models as models\n",
        "import torch.nn as nn\n",
        "# from pytorchtools import EarlyStopping\n",
        "\n",
        "# !pip install torch pytorch-lightning\n",
        "# !pip install git+https://github.com/PyTorchLightning/pytorch-lightning\n",
        "from pytorch_lightning.callbacks.early_stopping import EarlyStopping\n",
        "\n",
        "!pip install git+https://github.com/ncullen93/torchsample\n",
        "\n",
        "from torchsample.modules import ModuleTrainer\n",
        "\n",
        "\n",
        "\n",
        "\n",
        "# import torchvision.datasets as datasets\n",
        "\n",
        "# for reading and displaying images\n",
        "from skimage.io import imread\n",
        "import matplotlib.pyplot as plt\n",
        "%matplotlib inline\n",
        "\n",
        "# for creating validation set\n",
        "from sklearn.model_selection import train_test_split\n",
        "\n",
        "# for evaluating the model\n",
        "from sklearn.metrics import accuracy_score\n",
        "from tqdm import tqdm\n",
        "\n",
        "# PyTorch libraries and modules\n",
        "import torch\n",
        "from torch.autograd import Variable\n",
        "from torch.nn import Linear, ReLU, CrossEntropyLoss, Sequential, Conv2d, MaxPool2d, Module, Softmax, BatchNorm2d, Dropout\n",
        "import torch.optim as optim\n",
        "from torch.optim import Adam, SGD"
      ]
    },
    {
      "cell_type": "code",
      "execution_count": null,
      "metadata": {
        "id": "B28OUCCsfCYt"
      },
      "outputs": [],
      "source": [
        "SEED = 1234\n",
        "random.seed(SEED)\n",
        "np.random.seed(SEED)\n",
        "torch.manual_seed(SEED)\n",
        "torch.cuda.manual_seed(SEED)\n",
        "torch.backends.cudnn.deterministic = True"
      ]
    },
    {
      "cell_type": "code",
      "execution_count": null,
      "metadata": {
        "colab": {
          "base_uri": "https://localhost:8080/"
        },
        "id": "iuAnCx73QUIC",
        "outputId": "16a7b8dc-0a46-40de-9b61-fd52f8757af2"
      },
      "outputs": [
        {
          "name": "stdout",
          "output_type": "stream",
          "text": [
            "Mounted at /content/gdrive\n"
          ]
        },
        {
          "data": {
            "text/plain": [
              "['test_data', 'val_data', 'train_data']"
            ]
          },
          "execution_count": 3,
          "metadata": {},
          "output_type": "execute_result"
        }
      ],
      "source": [
        "# from google.colab import folder\n",
        "from google.colab import drive\n",
        "drive.mount('/content/gdrive')\n",
        "root_path = 'gdrive/My Drive/data/'\n",
        "\n",
        "os.listdir(root_path)"
      ]
    },
    {
      "cell_type": "code",
      "execution_count": null,
      "metadata": {
        "colab": {
          "base_uri": "https://localhost:8080/"
        },
        "id": "csdZsBkEQasR",
        "outputId": "f46adef9-2d8b-4a62-e917-ed35da691d89"
      },
      "outputs": [
        {
          "name": "stdout",
          "output_type": "stream",
          "text": [
            "['n000003', 'n000010', 'n000011', 'n000013', 'n000015', 'n000017', 'n000018', 'n000020', 'n000023', 'n000024']\n"
          ]
        }
      ],
      "source": [
        "\n",
        "\n",
        "train_transformer=transforms.Compose([\n",
        "    transforms.Resize((64,64)),\n",
        "    # transforms.RandomHorizontalFlip(),\n",
        "    transforms.ToTensor(),  #0-255 to 0-1, numpy to tensors\n",
        "    # transforms.Normalize([0.5,0.5,0.5], # 0-1 to [-1,1] , formula (x-mean)/std\n",
        "                        # [0.5,0.5,0.5])\n",
        "])\n",
        "\n",
        "\n",
        "train_path='gdrive/My Drive/data10/train_data'\n",
        "val_path='gdrive/My Drive/data10/val_data'\n",
        "test_path='gdrive/My Drive/data10/test_data'\n",
        "\n",
        "train_loader=DataLoader(\n",
        "    ImageFolder(train_path,transform=train_transformer),\n",
        "    batch_size=32, shuffle=True\n",
        ")\n",
        "\n",
        "#categories\n",
        "root=pathlib.Path(train_path)\n",
        "classes=sorted([j.name.split('/')[-1] for j in root.iterdir()])\n",
        "print(classes)"
      ]
    },
    {
      "cell_type": "code",
      "execution_count": null,
      "metadata": {
        "id": "PJtKU2l9RsH7"
      },
      "outputs": [],
      "source": [
        "# mean = ImageFolder(test_path,transform=test_transformer).float().mean() / 255\n",
        "# std = train_data.data.float().std() / 255\n",
        "\n",
        "mean = 0.0\n",
        "for images, _ in train_loader:\n",
        "    batch_samples = images.size(0) \n",
        "    images = images.view(batch_samples, images.size(1), -1)\n",
        "    mean += images.mean(2).sum(0)\n",
        "mean = mean / len(train_loader.dataset)\n",
        "\n",
        "var = 0.0\n",
        "for images, _ in train_loader:\n",
        "    batch_samples = images.size(0)\n",
        "    images = images.view(batch_samples, images.size(1), -1)\n",
        "    var += ((images - mean.unsqueeze(1))**2).sum([0,2])\n",
        "std = torch.sqrt(var / (len(train_loader.dataset)*64*64))\n"
      ]
    },
    {
      "cell_type": "code",
      "execution_count": null,
      "metadata": {
        "colab": {
          "base_uri": "https://localhost:8080/"
        },
        "id": "x19h4DdRRQA3",
        "outputId": "c8c434cd-6d39-400f-bea4-e908b5d09f87"
      },
      "outputs": [
        {
          "name": "stdout",
          "output_type": "stream",
          "text": [
            "tensor([0.5025, 0.4218, 0.3816])\n"
          ]
        }
      ],
      "source": [
        "# print(type(ImageFolder(test_path,transform=test_transformer)))\n",
        "print(mean)"
      ]
    },
    {
      "cell_type": "code",
      "execution_count": null,
      "metadata": {
        "id": "a_jDTjfM8B0S"
      },
      "outputs": [],
      "source": [
        "train_transformer=transforms.Compose([\n",
        "    transforms.Resize((64,64)),\n",
        "    # transforms.RandomHorizontalFlip(),\n",
        "    transforms.ToTensor(),  #0-255 to 0-1, numpy to tensors\n",
        "    # transforms.LinearTransformation(mean_vector=mean),\n",
        "    transforms.Normalize(mean, \n",
        "                        [1,1,1]) #to make the data zero-centric by substracting from the mean and deviding by one\n",
        "])\n",
        "\n",
        "test_transformer = transforms.Compose([\n",
        "                           transforms.ToTensor(),\n",
        "                           transforms.Normalize(mean = [mean], std = [1, 1, 1])\n",
        "                                     ])\n",
        "\n",
        "train_loader=DataLoader(\n",
        "    ImageFolder(train_path,transform=train_transformer),\n",
        "    batch_size=32, shuffle=True\n",
        ")\n",
        "\n",
        "val_loader=DataLoader(\n",
        "    ImageFolder(val_path,transform=train_transformer),\n",
        "    batch_size=32, shuffle=False\n",
        ")\n",
        "\n",
        "test_loader=DataLoader(\n",
        "    ImageFolder(test_path,transform=train_transformer),\n",
        "    batch_size=32, shuffle=False\n",
        ")\n"
      ]
    },
    {
      "cell_type": "code",
      "execution_count": null,
      "metadata": {
        "id": "ZvV7tTx5Q6oH"
      },
      "outputs": [],
      "source": [
        "class Net(Module):   \n",
        "    def __init__(self):\n",
        "        super(Net, self).__init__()\n",
        "\n",
        "        self.cnn_layers = Sequential(\n",
        "            # Defining a 2D convolution layer\n",
        "            Conv2d(3, 32, kernel_size=7, stride=1),\n",
        "            ReLU(inplace=True),\n",
        "            Conv2d(32, 16, kernel_size=7, stride=1),\n",
        "            ReLU(inplace=True),\n",
        "            MaxPool2d(kernel_size=2, stride=2),\n",
        "            Conv2d(16, 16, kernel_size=(5, 6), stride=1, padding=1),\n",
        "            ReLU(inplace=True),\n",
        "            Dropout(0.5),\n",
        "            Conv2d(16, 16, 5, stride=1),\n",
        "            BatchNorm2d(16),\n",
        "            ReLU(inplace=True),\n",
        "\n",
        "        )\n",
        "\n",
        "        self.linear_layers = Sequential(\n",
        "            Linear(6080, len(classes)) \n",
        "        )\n",
        "\n",
        "    # Defining the forward pass    \n",
        "    def forward(self, x):\n",
        "        x = self.cnn_layers(x)\n",
        "        x = x.view(x.size(0), -1)\n",
        "        x2 = x\n",
        "        x = self.linear_layers(x)\n",
        "        return x"
      ]
    },
    {
      "cell_type": "code",
      "execution_count": null,
      "metadata": {
        "colab": {
          "base_uri": "https://localhost:8080/"
        },
        "id": "ltpqUBVcNhQE",
        "outputId": "1ffea713-425b-4d79-c8ae-66e9fb28d602"
      },
      "outputs": [
        {
          "name": "stdout",
          "output_type": "stream",
          "text": [
            "cpu\n"
          ]
        }
      ],
      "source": [
        "device=torch.device('cuda' if torch.cuda.is_available() else 'cpu')\n",
        "print(device)"
      ]
    },
    {
      "cell_type": "code",
      "execution_count": null,
      "metadata": {
        "id": "LswpeOVVmvAJ"
      },
      "outputs": [],
      "source": [
        "model=Net().to(device)"
      ]
    },
    {
      "cell_type": "code",
      "execution_count": null,
      "metadata": {
        "id": "Ugs-MgL9MRVr"
      },
      "outputs": [],
      "source": [
        "loss_function=CrossEntropyLoss()\n",
        "loss_function = loss_function.to(device)"
      ]
    },
    {
      "cell_type": "code",
      "execution_count": null,
      "metadata": {
        "id": "a4VSxCp1OHyd"
      },
      "outputs": [],
      "source": [
        "def calculate_accuracy(y_pred, y):\n",
        "    top_pred = y_pred.argmax(1, keepdim = True)\n",
        "    correct = top_pred.eq(y.view_as(top_pred)).sum()\n",
        "    acc = correct.float() / y.shape[0]\n",
        "    return acc\n",
        "\n",
        "\n",
        "def train(model, data_iterator, optimizer, loss_function, device):\n",
        "    \n",
        "    epoch_loss = 0\n",
        "    epoch_acc = 0\n",
        "    \n",
        "    model.train()\n",
        "    \n",
        "    for (x, y) in data_iterator:\n",
        "        \n",
        "        x = x.to(device)\n",
        "        y = y.to(device)\n",
        "        \n",
        "        optimizer.zero_grad()\n",
        "                \n",
        "        y_pred = model(x)\n",
        "        \n",
        "        loss = loss_function(y_pred, y)\n",
        "        \n",
        "        acc = calculate_accuracy(y_pred, y)\n",
        "        \n",
        "        loss.backward()\n",
        "        \n",
        "        optimizer.step()\n",
        "        \n",
        "        epoch_loss += loss.item()\n",
        "        epoch_acc += acc.item()\n",
        "\n",
        "    avg_loss = epoch_loss / len(data_iterator)\n",
        "    avg_acc  = epoch_acc / len(data_iterator)     \n",
        "    \n",
        "    return avg_loss, avg_acc\n",
        "\n",
        "\n",
        "\n",
        "def evaluate(model, data_iterator, loss_function, device):\n",
        "    \n",
        "    epoch_loss = 0\n",
        "    epoch_acc = 0\n",
        "    \n",
        "    model.eval()\n",
        "    \n",
        "    with torch.no_grad():\n",
        "        \n",
        "        for (x, y) in data_iterator:\n",
        "\n",
        "            x = x.to(device)\n",
        "            y = y.to(device)\n",
        "\n",
        "            y_pred = model(x)\n",
        "\n",
        "            loss = loss_function(y_pred, y)\n",
        "\n",
        "            acc = calculate_accuracy(y_pred, y)\n",
        "\n",
        "            epoch_loss += loss.item()\n",
        "            epoch_acc += acc.item()\n",
        "\n",
        "    avg_loss = epoch_loss / len(data_iterator)\n",
        "    avg_acc  = epoch_acc / len(data_iterator)     \n",
        "\n",
        "    return avg_loss, avg_acc\n",
        "\n",
        "\n",
        "\n",
        "def epoch_time(start_time, end_time):\n",
        "    elapsed_time = end_time - start_time\n",
        "    elapsed_mins = int(elapsed_time / 60)\n",
        "    elapsed_secs = int(elapsed_time - (elapsed_mins * 60))\n",
        "    return elapsed_mins, elapsed_secs\n",
        "\n",
        "\n",
        "\n",
        "\n",
        "def plot_curves(a, b, label):\n",
        "    plt.figure(1)\n",
        "    plt.plot(a, 'b', label=\"train\")\n",
        "    plt.plot(b, 'g', label=\"valid\")\n",
        "    plt.title('Training/Valid ' + label)\n",
        "    plt.legend()\n",
        "    plt.show()\n",
        "\n",
        "\n",
        "\n",
        "\n",
        "def main(model, train_iterator, optimizer, loss_function, device, scheduler=None, EPOCHS=3):\n",
        "  #EPOCHS = 10\n",
        "\n",
        "  train_loss_all = []\n",
        "  valid_loss_all = []\n",
        "\n",
        "  train_acc_all = []\n",
        "  valid_acc_all = []\n",
        "  # test_acc_all = []\n",
        "\n",
        "  # early_stopping = EarlyStopping(monitor='accuracy', patience=30, verbose=True)\n",
        "\n",
        "  for epoch in range(EPOCHS):\n",
        "      \n",
        "      start_time = time.monotonic()\n",
        "      \n",
        "      train_loss, train_acc = train(model, train_iterator, optimizer, loss_function , device)\n",
        "      valid_loss, valid_acc = evaluate(model, val_loader, loss_function, device)\n",
        "      # test_loss, test_acc = evaluate(model, test_loader, loss_function, device)\n",
        "      if not scheduler is None:\n",
        "        scheduler.step()\n",
        "\n",
        "      train_loss_all.append(train_loss)\n",
        "      valid_loss_all.append(valid_loss)\n",
        "      # test_loss_all.append(test_loss)\n",
        "\n",
        "      train_acc_all.append(train_acc)\n",
        "      valid_acc_all.append(valid_acc)\n",
        "      # test_acc_all.append(test_acc)\n",
        "\n",
        "      \n",
        "      end_time = time.monotonic()\n",
        "\n",
        "      epoch_mins, epoch_secs = epoch_time(start_time, end_time)\n",
        "      \n",
        "      print(f'Epoch: {epoch+1:02} | Epoch Time: {epoch_mins}m {epoch_secs}s')\n",
        "      print(f'\\tTrain Loss: {train_loss:.3f} | Train Acc: {train_acc*100:.2f}%')\n",
        "      print(f'\\t Val. Loss: {valid_loss:.3f} |  Val. Acc: {valid_acc*100:.2f}%')\n",
        "      # print(f'\\t Test. Loss: {Test_loss:.3f} |  Test. Acc: {test_acc*100:.2f}%')\n",
        "\n",
        "      # early_stopping(valid_acc, model)\n",
        "      # if early_stopping.early_stop:\n",
        "      #       print(\"Early stopping\")\n",
        "      #       break\n",
        "\n",
        "  plot_curves(train_loss_all, valid_loss_all, 'loss')\n",
        "  plot_curves(train_acc_all, valid_acc_all, 'accuracy')"
      ]
    },
    {
      "cell_type": "code",
      "execution_count": null,
      "metadata": {
        "colab": {
          "base_uri": "https://localhost:8080/",
          "height": 1000
        },
        "id": "UbAo_E5d7d4S",
        "outputId": "b05a3c16-b874-4ee9-a0ff-b07606555471"
      },
      "outputs": [
        {
          "name": "stderr",
          "output_type": "stream",
          "text": [
            "/usr/local/lib/python3.7/dist-packages/torch/nn/functional.py:718: UserWarning: Named tensors and all their associated APIs are an experimental feature and subject to change. Please do not use them for anything important until they are released as stable. (Triggered internally at  /pytorch/c10/core/TensorImpl.h:1156.)\n",
            "  return torch.max_pool2d(input, kernel_size, stride, padding, dilation, ceil_mode)\n"
          ]
        },
        {
          "name": "stdout",
          "output_type": "stream",
          "text": [
            "Epoch: 01 | Epoch Time: 0m 16s\n",
            "\tTrain Loss: 2.153 | Train Acc: 24.42%\n",
            "\t Val. Loss: 2.241 |  Val. Acc: 35.00%\n",
            "Epoch: 02 | Epoch Time: 0m 10s\n",
            "\tTrain Loss: 1.807 | Train Acc: 37.70%\n",
            "\t Val. Loss: 1.916 |  Val. Acc: 45.00%\n",
            "Epoch: 03 | Epoch Time: 0m 10s\n",
            "\tTrain Loss: 1.512 | Train Acc: 49.15%\n",
            "\t Val. Loss: 1.606 |  Val. Acc: 50.00%\n",
            "Epoch: 04 | Epoch Time: 0m 10s\n",
            "\tTrain Loss: 1.350 | Train Acc: 55.38%\n",
            "\t Val. Loss: 1.729 |  Val. Acc: 45.00%\n",
            "Epoch: 05 | Epoch Time: 0m 10s\n",
            "\tTrain Loss: 1.193 | Train Acc: 61.49%\n",
            "\t Val. Loss: 1.558 |  Val. Acc: 50.00%\n",
            "Epoch: 06 | Epoch Time: 0m 10s\n",
            "\tTrain Loss: 1.093 | Train Acc: 62.24%\n",
            "\t Val. Loss: 1.834 |  Val. Acc: 50.00%\n",
            "Epoch: 07 | Epoch Time: 0m 10s\n",
            "\tTrain Loss: 1.000 | Train Acc: 68.92%\n",
            "\t Val. Loss: 1.541 |  Val. Acc: 45.00%\n",
            "Epoch: 08 | Epoch Time: 0m 10s\n",
            "\tTrain Loss: 0.914 | Train Acc: 70.03%\n",
            "\t Val. Loss: 1.344 |  Val. Acc: 55.00%\n",
            "Epoch: 09 | Epoch Time: 0m 10s\n",
            "\tTrain Loss: 0.866 | Train Acc: 72.55%\n",
            "\t Val. Loss: 1.321 |  Val. Acc: 55.00%\n",
            "Epoch: 10 | Epoch Time: 0m 10s\n",
            "\tTrain Loss: 0.785 | Train Acc: 74.03%\n",
            "\t Val. Loss: 1.521 |  Val. Acc: 45.00%\n"
          ]
        },
        {
          "data": {
            "image/png": "[encoded data removed]",
            "text/plain": [
              "<Figure size 432x288 with 1 Axes>"
            ]
          },
          "metadata": {
            "needs_background": "light"
          },
          "output_type": "display_data"
        },
        {
          "data": {
            "image/png": "[encoded data removed]",
            "text/plain": [
              "<Figure size 432x288 with 1 Axes>"
            ]
          },
          "metadata": {
            "needs_background": "light"
          },
          "output_type": "display_data"
        }
      ],
      "source": [
        "model = model.to(device)\n",
        "optimizer2 = SGD(model.parameters(), lr=0.008, weight_decay=1e-4)\n",
        "scheduler = torch.optim.lr_scheduler.StepLR(optimizer2, gamma=0.005, step_size=33)\n",
        "EPOCHS = 10\n",
        "main(model, train_loader, optimizer2, loss_function, device, scheduler, EPOCHS)"
      ]
    },
    {
      "cell_type": "code",
      "execution_count": null,
      "metadata": {
        "colab": {
          "base_uri": "https://localhost:8080/",
          "height": 1000
        },
        "id": "C9sIvS6r9OaB",
        "outputId": "e8f49da7-2b41-406b-8a81-93c611ba2d9e"
      },
      "outputs": [
        {
          "name": "stderr",
          "output_type": "stream",
          "text": [
            "/usr/local/lib/python3.7/dist-packages/torch/nn/functional.py:718: UserWarning: Named tensors and all their associated APIs are an experimental feature and subject to change. Please do not use them for anything important until they are released as stable. (Triggered internally at  /pytorch/c10/core/TensorImpl.h:1156.)\n",
            "  return torch.max_pool2d(input, kernel_size, stride, padding, dilation, ceil_mode)\n"
          ]
        },
        {
          "name": "stdout",
          "output_type": "stream",
          "text": [
            "Epoch: 01 | Epoch Time: 0m 14s\n",
            "\tTrain Loss: 2.143 | Train Acc: 24.74%\n",
            "\t Val. Loss: 2.205 |  Val. Acc: 40.00%\n",
            "Epoch: 02 | Epoch Time: 0m 11s\n",
            "\tTrain Loss: 1.805 | Train Acc: 39.33%\n",
            "\t Val. Loss: 1.927 |  Val. Acc: 40.00%\n",
            "Epoch: 03 | Epoch Time: 0m 11s\n",
            "\tTrain Loss: 1.604 | Train Acc: 47.39%\n",
            "\t Val. Loss: 1.645 |  Val. Acc: 55.00%\n",
            "Epoch: 04 | Epoch Time: 0m 11s\n",
            "\tTrain Loss: 1.472 | Train Acc: 53.92%\n",
            "\t Val. Loss: 1.418 |  Val. Acc: 50.00%\n",
            "Epoch: 05 | Epoch Time: 0m 11s\n",
            "\tTrain Loss: 1.353 | Train Acc: 56.56%\n",
            "\t Val. Loss: 1.378 |  Val. Acc: 55.00%\n",
            "Epoch: 06 | Epoch Time: 0m 11s\n",
            "\tTrain Loss: 1.276 | Train Acc: 58.49%\n",
            "\t Val. Loss: 1.336 |  Val. Acc: 55.00%\n",
            "Epoch: 07 | Epoch Time: 0m 11s\n",
            "\tTrain Loss: 1.200 | Train Acc: 60.48%\n",
            "\t Val. Loss: 1.320 |  Val. Acc: 55.00%\n",
            "Epoch: 08 | Epoch Time: 0m 11s\n",
            "\tTrain Loss: 1.134 | Train Acc: 62.43%\n",
            "\t Val. Loss: 1.327 |  Val. Acc: 50.00%\n",
            "Epoch: 09 | Epoch Time: 0m 11s\n",
            "\tTrain Loss: 1.079 | Train Acc: 65.41%\n",
            "\t Val. Loss: 1.226 |  Val. Acc: 55.00%\n",
            "Epoch: 10 | Epoch Time: 0m 11s\n",
            "\tTrain Loss: 1.034 | Train Acc: 66.67%\n",
            "\t Val. Loss: 1.189 |  Val. Acc: 55.00%\n"
          ]
        },
        {
          "data": {
            "image/png": "[encoded data removed]",
            "text/plain": [
              "<Figure size 432x288 with 1 Axes>"
            ]
          },
          "metadata": {
            "needs_background": "light"
          },
          "output_type": "display_data"
        },
        {
          "data": {
            "image/png": "[encoded data removed]",
            "text/plain": [
              "<Figure size 432x288 with 1 Axes>"
            ]
          },
          "metadata": {
            "needs_background": "light"
          },
          "output_type": "display_data"
        }
      ],
      "source": [
        "model = model.to(device)\n",
        "optimizer3 = optim.Adagrad(model.parameters(), lr=0.001, weight_decay=1e-4)\n",
        "scheduler = torch.optim.lr_scheduler.StepLR(optimizer3, gamma=0.005, step_size=33)\n",
        "EPOCHS = 10\n",
        "main(model, train_loader, optimizer3, loss_function, device, scheduler, EPOCHS)"
      ]
    },
    {
      "cell_type": "code",
      "execution_count": null,
      "metadata": {
        "colab": {
          "base_uri": "https://localhost:8080/",
          "height": 1000
        },
        "id": "DeDL3DJoNkKD",
        "outputId": "3b03ce43-c490-44e6-a767-b0ef30a9e9a3"
      },
      "outputs": [
        {
          "name": "stderr",
          "output_type": "stream",
          "text": [
            "/usr/local/lib/python3.7/dist-packages/torch/nn/functional.py:718: UserWarning: Named tensors and all their associated APIs are an experimental feature and subject to change. Please do not use them for anything important until they are released as stable. (Triggered internally at  /pytorch/c10/core/TensorImpl.h:1156.)\n",
            "  return torch.max_pool2d(input, kernel_size, stride, padding, dilation, ceil_mode)\n"
          ]
        },
        {
          "name": "stdout",
          "output_type": "stream",
          "text": [
            "Epoch: 01 | Epoch Time: 0m 13s\n",
            "\tTrain Loss: 22.646 | Train Acc: 17.42%\n",
            "\t Val. Loss: 2.294 |  Val. Acc: 20.00%\n",
            "Epoch: 02 | Epoch Time: 0m 10s\n",
            "\tTrain Loss: 2.223 | Train Acc: 22.52%\n",
            "\t Val. Loss: 2.221 |  Val. Acc: 20.00%\n",
            "Epoch: 03 | Epoch Time: 0m 11s\n",
            "\tTrain Loss: 2.075 | Train Acc: 27.53%\n",
            "\t Val. Loss: 2.095 |  Val. Acc: 25.00%\n",
            "Epoch: 04 | Epoch Time: 0m 11s\n",
            "\tTrain Loss: 2.049 | Train Acc: 28.40%\n",
            "\t Val. Loss: 2.081 |  Val. Acc: 30.00%\n",
            "Epoch: 05 | Epoch Time: 0m 11s\n",
            "\tTrain Loss: 1.956 | Train Acc: 30.42%\n",
            "\t Val. Loss: 1.987 |  Val. Acc: 30.00%\n",
            "Epoch: 06 | Epoch Time: 0m 11s\n",
            "\tTrain Loss: 1.906 | Train Acc: 33.34%\n",
            "\t Val. Loss: 2.049 |  Val. Acc: 25.00%\n",
            "Epoch: 07 | Epoch Time: 0m 12s\n",
            "\tTrain Loss: 1.863 | Train Acc: 35.32%\n",
            "\t Val. Loss: 2.035 |  Val. Acc: 30.00%\n",
            "Epoch: 08 | Epoch Time: 0m 12s\n",
            "\tTrain Loss: 1.815 | Train Acc: 34.20%\n",
            "\t Val. Loss: 1.836 |  Val. Acc: 35.00%\n",
            "Epoch: 09 | Epoch Time: 0m 11s\n",
            "\tTrain Loss: 1.770 | Train Acc: 37.41%\n",
            "\t Val. Loss: 1.953 |  Val. Acc: 40.00%\n",
            "Epoch: 10 | Epoch Time: 0m 12s\n",
            "\tTrain Loss: 1.751 | Train Acc: 38.89%\n",
            "\t Val. Loss: 1.802 |  Val. Acc: 25.00%\n"
          ]
        },
        {
          "data": {
            "image/png": "[encoded data removed]",
            "text/plain": [
              "<Figure size 432x288 with 1 Axes>"
            ]
          },
          "metadata": {
            "needs_background": "light"
          },
          "output_type": "display_data"
        },
        {
          "data": {
            "image/png": "[encoded data removed]",
            "text/plain": [
              "<Figure size 432x288 with 1 Axes>"
            ]
          },
          "metadata": {
            "needs_background": "light"
          },
          "output_type": "display_data"
        }
      ],
      "source": [
        "model = model.to(device)\n",
        "optimizer4 = optim.RMSprop(model.parameters(), lr=0.008, weight_decay=1e-4)\n",
        "scheduler = torch.optim.lr_scheduler.StepLR(optimizer4, gamma=0.005, step_size=33)\n",
        "EPOCHS = 10\n",
        "main(model, train_loader, optimizer4, loss_function, device, scheduler, EPOCHS)"
      ]
    },
    {
      "cell_type": "code",
      "execution_count": null,
      "metadata": {
        "colab": {
          "base_uri": "https://localhost:8080/",
          "height": 1000
        },
        "id": "YeSc81IGPAbM",
        "outputId": "5ce3615c-aede-4501-83ad-1ffeaf3fc471"
      },
      "outputs": [
        {
          "name": "stderr",
          "output_type": "stream",
          "text": [
            "/usr/local/lib/python3.7/dist-packages/torch/nn/functional.py:718: UserWarning: Named tensors and all their associated APIs are an experimental feature and subject to change. Please do not use them for anything important until they are released as stable. (Triggered internally at  /pytorch/c10/core/TensorImpl.h:1156.)\n",
            "  return torch.max_pool2d(input, kernel_size, stride, padding, dilation, ceil_mode)\n"
          ]
        },
        {
          "name": "stdout",
          "output_type": "stream",
          "text": [
            "Epoch: 01 | Epoch Time: 0m 15s\n",
            "\tTrain Loss: 2.356 | Train Acc: 23.33%\n",
            "\t Val. Loss: 1.941 |  Val. Acc: 35.00%\n",
            "Epoch: 02 | Epoch Time: 0m 8s\n",
            "\tTrain Loss: 1.727 | Train Acc: 43.20%\n",
            "\t Val. Loss: 1.473 |  Val. Acc: 50.00%\n",
            "Epoch: 03 | Epoch Time: 0m 8s\n",
            "\tTrain Loss: 1.343 | Train Acc: 54.68%\n",
            "\t Val. Loss: 1.317 |  Val. Acc: 50.00%\n",
            "Epoch: 04 | Epoch Time: 0m 8s\n",
            "\tTrain Loss: 1.099 | Train Acc: 62.98%\n",
            "\t Val. Loss: 1.449 |  Val. Acc: 45.00%\n",
            "Epoch: 05 | Epoch Time: 0m 8s\n",
            "\tTrain Loss: 0.990 | Train Acc: 66.17%\n",
            "\t Val. Loss: 1.225 |  Val. Acc: 50.00%\n",
            "Epoch: 06 | Epoch Time: 0m 8s\n",
            "\tTrain Loss: 0.783 | Train Acc: 72.30%\n",
            "\t Val. Loss: 1.246 |  Val. Acc: 55.00%\n",
            "Epoch: 07 | Epoch Time: 0m 8s\n",
            "\tTrain Loss: 0.642 | Train Acc: 79.28%\n",
            "\t Val. Loss: 1.128 |  Val. Acc: 65.00%\n",
            "Epoch: 08 | Epoch Time: 0m 8s\n",
            "\tTrain Loss: 0.485 | Train Acc: 84.58%\n",
            "\t Val. Loss: 1.244 |  Val. Acc: 55.00%\n",
            "Epoch: 09 | Epoch Time: 0m 8s\n",
            "\tTrain Loss: 0.398 | Train Acc: 88.72%\n",
            "\t Val. Loss: 0.941 |  Val. Acc: 60.00%\n",
            "Epoch: 10 | Epoch Time: 0m 8s\n",
            "\tTrain Loss: 0.287 | Train Acc: 92.32%\n",
            "\t Val. Loss: 1.289 |  Val. Acc: 55.00%\n"
          ]
        },
        {
          "data": {
            "image/png": "[encoded data removed]",
            "text/plain": [
              "<Figure size 432x288 with 1 Axes>"
            ]
          },
          "metadata": {
            "needs_background": "light"
          },
          "output_type": "display_data"
        },
        {
          "data": {
            "image/png": "[encoded data removed]",
            "text/plain": [
              "<Figure size 432x288 with 1 Axes>"
            ]
          },
          "metadata": {
            "needs_background": "light"
          },
          "output_type": "display_data"
        }
      ],
      "source": [
        "optimizer=Adam(model.parameters(),lr=0.001, weight_decay=0.0001)\n",
        "EPOCHS = 10\n",
        "main(model, train_loader, optimizer, loss_function, device, None, EPOCHS)"
      ]
    },
    {
      "cell_type": "code",
      "execution_count": null,
      "metadata": {
        "colab": {
          "base_uri": "https://localhost:8080/"
        },
        "id": "07ctIV3M1I1M",
        "outputId": "478bc51c-ca2b-4eac-b8b8-24e89e152627"
      },
      "outputs": [
        {
          "name": "stdout",
          "output_type": "stream",
          "text": [
            "Test Loss: 1.047 | Test Acc: 75.00%\n"
          ]
        }
      ],
      "source": [
        "test_loss, test_acc = evaluate(model, test_loader, loss_function, device)\n",
        "print(f'Test Loss: {test_loss:.3f} | Test Acc: {test_acc*100:.2f}%')"
      ]
    },
    {
      "cell_type": "code",
      "execution_count": null,
      "metadata": {
        "id": "axHhdM9fNntp"
      },
      "outputs": [],
      "source": [
        "class Improved_Net(Module):   \n",
        "    def __init__(self):\n",
        "        super(Improved_Net, self).__init__()\n",
        "\n",
        "        self.cnn_layers = Sequential(\n",
        "            # Defining a 2D convolution layer\n",
        "            Conv2d(3, 32, kernel_size=7, stride=1),\n",
        "            BatchNorm2d(32),\n",
        "            ReLU(inplace=True),\n",
        "            Conv2d(32, 16, kernel_size=7, stride=1),\n",
        "            BatchNorm2d(16),\n",
        "            ReLU(inplace=True),\n",
        "            MaxPool2d(kernel_size=2, stride=2),\n",
        "            Conv2d(16, 16, kernel_size=(5, 6), stride=1, padding=1),\n",
        "            BatchNorm2d(16),\n",
        "            ReLU(inplace=True),\n",
        "            Dropout(0.5),\n",
        "            Conv2d(16, 16, 5, stride=1),\n",
        "            BatchNorm2d(16),\n",
        "            ReLU(inplace=True),\n",
        "\n",
        "        )\n",
        "\n",
        "        self.linear_layers = Sequential(\n",
        "            Linear(6080, len(classes)) \n",
        "        )\n",
        "\n",
        "    # Defining the forward pass    \n",
        "    def forward(self, x):\n",
        "        x = self.cnn_layers(x)\n",
        "        x = x.view(x.size(0), -1)\n",
        "        x2 = x\n",
        "        x = self.linear_layers(x)\n",
        "        return x"
      ]
    },
    {
      "cell_type": "code",
      "execution_count": null,
      "metadata": {
        "colab": {
          "base_uri": "https://localhost:8080/",
          "height": 1000
        },
        "id": "aV8tlywfO2YD",
        "outputId": "7407923d-dbc0-4e57-c7a1-a6b0df0645a0"
      },
      "outputs": [
        {
          "name": "stderr",
          "output_type": "stream",
          "text": [
            "/usr/local/lib/python3.7/dist-packages/torch/nn/functional.py:718: UserWarning: Named tensors and all their associated APIs are an experimental feature and subject to change. Please do not use them for anything important until they are released as stable. (Triggered internally at  /pytorch/c10/core/TensorImpl.h:1156.)\n",
            "  return torch.max_pool2d(input, kernel_size, stride, padding, dilation, ceil_mode)\n"
          ]
        },
        {
          "name": "stdout",
          "output_type": "stream",
          "text": [
            "Epoch: 01 | Epoch Time: 0m 16s\n",
            "\tTrain Loss: 2.145 | Train Acc: 30.18%\n",
            "\t Val. Loss: 1.947 |  Val. Acc: 55.00%\n",
            "Epoch: 02 | Epoch Time: 0m 12s\n",
            "\tTrain Loss: 1.425 | Train Acc: 53.31%\n",
            "\t Val. Loss: 1.335 |  Val. Acc: 55.00%\n",
            "Epoch: 03 | Epoch Time: 0m 12s\n",
            "\tTrain Loss: 1.095 | Train Acc: 63.81%\n",
            "\t Val. Loss: 1.405 |  Val. Acc: 55.00%\n",
            "Epoch: 04 | Epoch Time: 0m 12s\n",
            "\tTrain Loss: 0.908 | Train Acc: 67.02%\n",
            "\t Val. Loss: 1.316 |  Val. Acc: 55.00%\n",
            "Epoch: 05 | Epoch Time: 0m 12s\n",
            "\tTrain Loss: 0.704 | Train Acc: 76.85%\n",
            "\t Val. Loss: 1.260 |  Val. Acc: 55.00%\n",
            "Epoch: 06 | Epoch Time: 0m 12s\n",
            "\tTrain Loss: 0.492 | Train Acc: 84.91%\n",
            "\t Val. Loss: 1.296 |  Val. Acc: 55.00%\n",
            "Epoch: 07 | Epoch Time: 0m 12s\n",
            "\tTrain Loss: 0.399 | Train Acc: 87.27%\n",
            "\t Val. Loss: 1.165 |  Val. Acc: 70.00%\n",
            "Epoch: 08 | Epoch Time: 0m 12s\n",
            "\tTrain Loss: 0.317 | Train Acc: 91.70%\n",
            "\t Val. Loss: 0.845 |  Val. Acc: 60.00%\n",
            "Epoch: 09 | Epoch Time: 0m 12s\n",
            "\tTrain Loss: 0.226 | Train Acc: 94.19%\n",
            "\t Val. Loss: 0.952 |  Val. Acc: 60.00%\n",
            "Epoch: 10 | Epoch Time: 0m 12s\n",
            "\tTrain Loss: 0.177 | Train Acc: 96.62%\n",
            "\t Val. Loss: 0.819 |  Val. Acc: 70.00%\n"
          ]
        },
        {
          "data": {
            "image/png": "[encoded data removed]",
            "text/plain": [
              "<Figure size 432x288 with 1 Axes>"
            ]
          },
          "metadata": {
            "needs_background": "light"
          },
          "output_type": "display_data"
        },
        {
          "data": {
            "image/png": "[encoded data removed]",
            "text/plain": [
              "<Figure size 432x288 with 1 Axes>"
            ]
          },
          "metadata": {
            "needs_background": "light"
          },
          "output_type": "display_data"
        }
      ],
      "source": [
        "improved_model=Improved_Net().to(device)\n",
        "optimizer=Adam(improved_model.parameters(),lr=0.001, weight_decay=0.0001)\n",
        "EPOCHS = 10\n",
        "main(improved_model, train_loader, optimizer, loss_function, device, None, EPOCHS)"
      ]
    },
    {
      "cell_type": "code",
      "execution_count": null,
      "metadata": {
        "colab": {
          "base_uri": "https://localhost:8080/"
        },
        "id": "tTWj-D80UMxt",
        "outputId": "a1f84d73-5084-420c-caec-740e1d94b798"
      },
      "outputs": [
        {
          "name": "stdout",
          "output_type": "stream",
          "text": [
            "Test Loss: 0.748 | Test Acc: 85.00%\n"
          ]
        }
      ],
      "source": [
        "test_loss, test_acc = evaluate(improved_model, test_loader, loss_function, device)\n",
        "print(f'Test Loss: {test_loss:.3f} | Test Acc: {test_acc*100:.2f}%')"
      ]
    },
    {
      "cell_type": "code",
      "execution_count": null,
      "metadata": {
        "colab": {
          "base_uri": "https://localhost:8080/",
          "height": 67,
          "referenced_widgets": [
            "af16575f841f44868d1fccd21664ad0c",
            "013ad458b6a24c748422cd4eeb051b38",
            "87476fe745cd4d67bf04242e4557d3e3",
            "ba3dbe3876004aa89600632e569a923e",
            "151aec70b2db46a793452bd5391455d8",
            "1a02e2d0c84e45869a0d6922b904d767",
            "5bbf700f8ecf46f8b59a500d36e0dbbf",
            "eceb791dc7ba43c3b45394dc9349a2fe",
            "ad60aabc3fab4b7e857699ca9d684c35",
            "3dd97c145a604da5b198df3eb31e75f4",
            "f33506eb903b4e52a66c4b6236a4fa68"
          ]
        },
        "id": "NCEPlV7PrMaa",
        "outputId": "f2801286-0a68-4dfe-aabb-c2f8404fee68"
      },
      "outputs": [
        {
          "name": "stderr",
          "output_type": "stream",
          "text": [
            "Downloading: \"https://download.pytorch.org/models/vgg16-397923af.pth\" to /root/.cache/torch/hub/checkpoints/vgg16-397923af.pth\n"
          ]
        },
        {
          "data": {
            "application/vnd.jupyter.widget-view+json": {
              "model_id": "af16575f841f44868d1fccd21664ad0c",
              "version_major": 2,
              "version_minor": 0
            },
            "text/plain": [
              "  0%|          | 0.00/528M [00:00<?, ?B/s]"
            ]
          },
          "metadata": {},
          "output_type": "display_data"
        }
      ],
      "source": [
        "model_ft = models.vgg16(pretrained=True)\n"
      ]
    },
    {
      "cell_type": "code",
      "execution_count": null,
      "metadata": {
        "colab": {
          "base_uri": "https://localhost:8080/"
        },
        "id": "Pain6rG8rREv",
        "outputId": "5f46e9c6-5969-4013-fdeb-cc4b62b9acbc"
      },
      "outputs": [
        {
          "name": "stdout",
          "output_type": "stream",
          "text": [
            "VGG(\n",
            "  (features): Sequential(\n",
            "    (0): Conv2d(3, 64, kernel_size=(3, 3), stride=(1, 1), padding=(1, 1))\n",
            "    (1): ReLU(inplace=True)\n",
            "    (2): Conv2d(64, 64, kernel_size=(3, 3), stride=(1, 1), padding=(1, 1))\n",
            "    (3): ReLU(inplace=True)\n",
            "    (4): MaxPool2d(kernel_size=2, stride=2, padding=0, dilation=1, ceil_mode=False)\n",
            "    (5): Conv2d(64, 128, kernel_size=(3, 3), stride=(1, 1), padding=(1, 1))\n",
            "    (6): ReLU(inplace=True)\n",
            "    (7): Conv2d(128, 128, kernel_size=(3, 3), stride=(1, 1), padding=(1, 1))\n",
            "    (8): ReLU(inplace=True)\n",
            "    (9): MaxPool2d(kernel_size=2, stride=2, padding=0, dilation=1, ceil_mode=False)\n",
            "    (10): Conv2d(128, 256, kernel_size=(3, 3), stride=(1, 1), padding=(1, 1))\n",
            "    (11): ReLU(inplace=True)\n",
            "    (12): Conv2d(256, 256, kernel_size=(3, 3), stride=(1, 1), padding=(1, 1))\n",
            "    (13): ReLU(inplace=True)\n",
            "    (14): Conv2d(256, 256, kernel_size=(3, 3), stride=(1, 1), padding=(1, 1))\n",
            "    (15): ReLU(inplace=True)\n",
            "    (16): MaxPool2d(kernel_size=2, stride=2, padding=0, dilation=1, ceil_mode=False)\n",
            "    (17): Conv2d(256, 512, kernel_size=(3, 3), stride=(1, 1), padding=(1, 1))\n",
            "    (18): ReLU(inplace=True)\n",
            "    (19): Conv2d(512, 512, kernel_size=(3, 3), stride=(1, 1), padding=(1, 1))\n",
            "    (20): ReLU(inplace=True)\n",
            "    (21): Conv2d(512, 512, kernel_size=(3, 3), stride=(1, 1), padding=(1, 1))\n",
            "    (22): ReLU(inplace=True)\n",
            "    (23): MaxPool2d(kernel_size=2, stride=2, padding=0, dilation=1, ceil_mode=False)\n",
            "    (24): Conv2d(512, 512, kernel_size=(3, 3), stride=(1, 1), padding=(1, 1))\n",
            "    (25): ReLU(inplace=True)\n",
            "    (26): Conv2d(512, 512, kernel_size=(3, 3), stride=(1, 1), padding=(1, 1))\n",
            "    (27): ReLU(inplace=True)\n",
            "    (28): Conv2d(512, 512, kernel_size=(3, 3), stride=(1, 1), padding=(1, 1))\n",
            "    (29): ReLU(inplace=True)\n",
            "    (30): MaxPool2d(kernel_size=2, stride=2, padding=0, dilation=1, ceil_mode=False)\n",
            "  )\n",
            "  (avgpool): AdaptiveAvgPool2d(output_size=(7, 7))\n",
            "  (classifier): Sequential(\n",
            "    (0): Linear(in_features=25088, out_features=4096, bias=True)\n",
            "    (1): ReLU(inplace=True)\n",
            "    (2): Dropout(p=0.5, inplace=False)\n",
            "    (3): Linear(in_features=4096, out_features=4096, bias=True)\n",
            "    (4): ReLU(inplace=True)\n",
            "    (5): Dropout(p=0.5, inplace=False)\n",
            "    (6): Linear(in_features=4096, out_features=1000, bias=True)\n",
            "  )\n",
            ")\n"
          ]
        }
      ],
      "source": [
        "print(model_ft)"
      ]
    },
    {
      "cell_type": "code",
      "execution_count": null,
      "metadata": {
        "colab": {
          "base_uri": "https://localhost:8080/"
        },
        "id": "qIvj4NfYrsbK",
        "outputId": "cd8f2c8e-0254-4425-f355-bd5bead584b2"
      },
      "outputs": [
        {
          "name": "stdout",
          "output_type": "stream",
          "text": [
            "VGG(\n",
            "  (features): Sequential(\n",
            "    (0): Conv2d(3, 64, kernel_size=(3, 3), stride=(1, 1), padding=(1, 1))\n",
            "    (1): ReLU(inplace=True)\n",
            "    (2): Conv2d(64, 64, kernel_size=(3, 3), stride=(1, 1), padding=(1, 1))\n",
            "    (3): ReLU(inplace=True)\n",
            "    (4): MaxPool2d(kernel_size=2, stride=2, padding=0, dilation=1, ceil_mode=False)\n",
            "    (5): Conv2d(64, 128, kernel_size=(3, 3), stride=(1, 1), padding=(1, 1))\n",
            "    (6): ReLU(inplace=True)\n",
            "    (7): Conv2d(128, 128, kernel_size=(3, 3), stride=(1, 1), padding=(1, 1))\n",
            "    (8): ReLU(inplace=True)\n",
            "    (9): MaxPool2d(kernel_size=2, stride=2, padding=0, dilation=1, ceil_mode=False)\n",
            "    (10): Conv2d(128, 256, kernel_size=(3, 3), stride=(1, 1), padding=(1, 1))\n",
            "    (11): ReLU(inplace=True)\n",
            "    (12): Conv2d(256, 256, kernel_size=(3, 3), stride=(1, 1), padding=(1, 1))\n",
            "    (13): ReLU(inplace=True)\n",
            "    (14): Conv2d(256, 256, kernel_size=(3, 3), stride=(1, 1), padding=(1, 1))\n",
            "    (15): ReLU(inplace=True)\n",
            "    (16): MaxPool2d(kernel_size=2, stride=2, padding=0, dilation=1, ceil_mode=False)\n",
            "    (17): Conv2d(256, 512, kernel_size=(3, 3), stride=(1, 1), padding=(1, 1))\n",
            "    (18): ReLU(inplace=True)\n",
            "    (19): Conv2d(512, 512, kernel_size=(3, 3), stride=(1, 1), padding=(1, 1))\n",
            "    (20): ReLU(inplace=True)\n",
            "    (21): Conv2d(512, 512, kernel_size=(3, 3), stride=(1, 1), padding=(1, 1))\n",
            "    (22): ReLU(inplace=True)\n",
            "    (23): MaxPool2d(kernel_size=2, stride=2, padding=0, dilation=1, ceil_mode=False)\n",
            "    (24): Conv2d(512, 512, kernel_size=(3, 3), stride=(1, 1), padding=(1, 1))\n",
            "    (25): ReLU(inplace=True)\n",
            "    (26): Conv2d(512, 512, kernel_size=(3, 3), stride=(1, 1), padding=(1, 1))\n",
            "    (27): ReLU(inplace=True)\n",
            "    (28): Conv2d(512, 512, kernel_size=(3, 3), stride=(1, 1), padding=(1, 1))\n",
            "    (29): ReLU(inplace=True)\n",
            "    (30): MaxPool2d(kernel_size=2, stride=2, padding=0, dilation=1, ceil_mode=False)\n",
            "  )\n",
            "  (avgpool): AdaptiveAvgPool2d(output_size=(7, 7))\n",
            "  (classifier): Sequential(\n",
            "    (0): Linear(in_features=25088, out_features=4096, bias=True)\n",
            "    (1): Linear(in_features=4096, out_features=10, bias=True)\n",
            "  )\n",
            ")\n"
          ]
        }
      ],
      "source": [
        "# model_ft.layers[:15]\n",
        "\n",
        "ct = 0\n",
        "ct2 = 0\n",
        "for child in model_ft.children():\n",
        "  # print(child)\n",
        "  ct += 1\n",
        "  if ct == 3:\n",
        "    # print(child)\n",
        "    for param in child.parameters():\n",
        "      ct2 +=1\n",
        "      if ct > 1:\n",
        "        param.requires_grad = False\n",
        "        # print(param.requires_grad)\n",
        "    # print(child)\n",
        "\n",
        "# model_ft.classifier = model_ft.classifier[0]\n",
        "# model_ft.classifier[1] = model_ft.classifier\n",
        "\n",
        "# model_ft.classifier[0] = nn.Linear(4096, 234)\n",
        "model_ft.classifier = model_ft.classifier[0:2]\n",
        "model_ft.classifier[1] = Linear(4096, len(classes))\n",
        "print(model_ft)\n",
        "\n",
        "# optimizer = Adam(filter(lambda p: p.requires_grad, model_ft.parameters()), lr=0.001)\n",
        "\n",
        "\n",
        "# print(model_ft.children)"
      ]
    },
    {
      "cell_type": "code",
      "execution_count": null,
      "metadata": {
        "colab": {
          "base_uri": "https://localhost:8080/",
          "height": 1000
        },
        "id": "-Wkksy0tFeih",
        "outputId": "0e111283-4244-4854-ea95-10b002c4a27d"
      },
      "outputs": [
        {
          "name": "stderr",
          "output_type": "stream",
          "text": [
            "/usr/local/lib/python3.7/dist-packages/torch/nn/functional.py:718: UserWarning: Named tensors and all their associated APIs are an experimental feature and subject to change. Please do not use them for anything important until they are released as stable. (Triggered internally at  /pytorch/c10/core/TensorImpl.h:1156.)\n",
            "  return torch.max_pool2d(input, kernel_size, stride, padding, dilation, ceil_mode)\n"
          ]
        },
        {
          "name": "stdout",
          "output_type": "stream",
          "text": [
            "Epoch: 01 | Epoch Time: 2m 3s\n",
            "\tTrain Loss: 2.407 | Train Acc: 17.30%\n",
            "\t Val. Loss: 2.355 |  Val. Acc: 10.00%\n",
            "Epoch: 02 | Epoch Time: 1m 55s\n",
            "\tTrain Loss: 2.248 | Train Acc: 16.53%\n",
            "\t Val. Loss: 2.363 |  Val. Acc: 10.00%\n",
            "Epoch: 03 | Epoch Time: 1m 54s\n",
            "\tTrain Loss: 2.265 | Train Acc: 13.67%\n",
            "\t Val. Loss: 2.342 |  Val. Acc: 10.00%\n",
            "Epoch: 04 | Epoch Time: 1m 52s\n",
            "\tTrain Loss: 2.236 | Train Acc: 14.10%\n",
            "\t Val. Loss: 2.393 |  Val. Acc: 10.00%\n",
            "Epoch: 05 | Epoch Time: 1m 51s\n",
            "\tTrain Loss: 2.166 | Train Acc: 20.28%\n",
            "\t Val. Loss: 3.121 |  Val. Acc: 15.00%\n",
            "Epoch: 06 | Epoch Time: 1m 53s\n",
            "\tTrain Loss: 2.282 | Train Acc: 15.73%\n",
            "\t Val. Loss: 2.319 |  Val. Acc: 10.00%\n",
            "Epoch: 07 | Epoch Time: 1m 54s\n",
            "\tTrain Loss: 2.142 | Train Acc: 20.09%\n",
            "\t Val. Loss: 2.291 |  Val. Acc: 25.00%\n",
            "Epoch: 08 | Epoch Time: 1m 53s\n",
            "\tTrain Loss: 1.949 | Train Acc: 27.97%\n",
            "\t Val. Loss: 2.081 |  Val. Acc: 30.00%\n",
            "Epoch: 09 | Epoch Time: 1m 52s\n",
            "\tTrain Loss: 1.832 | Train Acc: 31.90%\n",
            "\t Val. Loss: 2.066 |  Val. Acc: 15.00%\n",
            "Epoch: 10 | Epoch Time: 1m 53s\n",
            "\tTrain Loss: 1.766 | Train Acc: 33.52%\n",
            "\t Val. Loss: 2.444 |  Val. Acc: 30.00%\n",
            "Epoch: 11 | Epoch Time: 1m 52s\n",
            "\tTrain Loss: 1.680 | Train Acc: 39.38%\n",
            "\t Val. Loss: 1.960 |  Val. Acc: 30.00%\n",
            "Epoch: 12 | Epoch Time: 1m 53s\n",
            "\tTrain Loss: 1.669 | Train Acc: 41.06%\n",
            "\t Val. Loss: 1.885 |  Val. Acc: 30.00%\n",
            "Epoch: 13 | Epoch Time: 1m 53s\n",
            "\tTrain Loss: 1.477 | Train Acc: 41.58%\n",
            "\t Val. Loss: 1.624 |  Val. Acc: 55.00%\n",
            "Epoch: 14 | Epoch Time: 1m 53s\n",
            "\tTrain Loss: 1.374 | Train Acc: 46.82%\n",
            "\t Val. Loss: 2.130 |  Val. Acc: 20.00%\n",
            "Epoch: 15 | Epoch Time: 1m 56s\n",
            "\tTrain Loss: 1.311 | Train Acc: 48.86%\n",
            "\t Val. Loss: 1.988 |  Val. Acc: 35.00%\n",
            "Epoch: 16 | Epoch Time: 1m 53s\n",
            "\tTrain Loss: 1.222 | Train Acc: 54.57%\n",
            "\t Val. Loss: 2.010 |  Val. Acc: 30.00%\n",
            "Epoch: 17 | Epoch Time: 1m 56s\n",
            "\tTrain Loss: 1.187 | Train Acc: 57.48%\n",
            "\t Val. Loss: 2.038 |  Val. Acc: 35.00%\n",
            "Epoch: 18 | Epoch Time: 1m 56s\n",
            "\tTrain Loss: 1.088 | Train Acc: 56.89%\n",
            "\t Val. Loss: 2.000 |  Val. Acc: 40.00%\n",
            "Epoch: 19 | Epoch Time: 1m 57s\n",
            "\tTrain Loss: 1.019 | Train Acc: 59.57%\n",
            "\t Val. Loss: 1.730 |  Val. Acc: 55.00%\n",
            "Epoch: 20 | Epoch Time: 1m 56s\n",
            "\tTrain Loss: 0.887 | Train Acc: 65.86%\n",
            "\t Val. Loss: 1.620 |  Val. Acc: 65.00%\n",
            "Epoch: 21 | Epoch Time: 1m 55s\n",
            "\tTrain Loss: 0.915 | Train Acc: 64.17%\n",
            "\t Val. Loss: 1.331 |  Val. Acc: 55.00%\n",
            "Epoch: 22 | Epoch Time: 1m 55s\n",
            "\tTrain Loss: 0.865 | Train Acc: 68.55%\n",
            "\t Val. Loss: 1.959 |  Val. Acc: 35.00%\n",
            "Epoch: 23 | Epoch Time: 1m 54s\n",
            "\tTrain Loss: 0.791 | Train Acc: 69.31%\n",
            "\t Val. Loss: 1.400 |  Val. Acc: 65.00%\n",
            "Epoch: 24 | Epoch Time: 1m 53s\n",
            "\tTrain Loss: 0.628 | Train Acc: 75.16%\n",
            "\t Val. Loss: 1.408 |  Val. Acc: 55.00%\n",
            "Epoch: 25 | Epoch Time: 1m 53s\n",
            "\tTrain Loss: 0.605 | Train Acc: 76.47%\n",
            "\t Val. Loss: 1.003 |  Val. Acc: 65.00%\n"
          ]
        },
        {
          "data": {
            "image/png": "[encoded data removed]",
            "text/plain": [
              "<Figure size 432x288 with 1 Axes>"
            ]
          },
          "metadata": {
            "needs_background": "light"
          },
          "output_type": "display_data"
        },
        {
          "data": {
            "image/png": "[encoded data removed]",
            "text/plain": [
              "<Figure size 432x288 with 1 Axes>"
            ]
          },
          "metadata": {
            "needs_background": "light"
          },
          "output_type": "display_data"
        }
      ],
      "source": [
        "optimizer=Adam(model_ft.parameters(),lr=0.001, weight_decay=0.0001)\n",
        "EPOCHS = 25\n",
        "main(model_ft, train_loader, optimizer, loss_function, device, None, EPOCHS)"
      ]
    },
    {
      "cell_type": "markdown",
      "metadata": {
        "id": "W_i7B86tMTto"
      },
      "source": [
        "**Report**\n",
        "\n",
        "- part-1\n",
        " - Data has been processed to be made zero-centered\n",
        " - Traning data has been taken from the train_data file, and tha validation data has been taken from the val_data file\n",
        " - The propoced model has been implemented and the last layer (softMax) has been added by CrossEntropy functoin \n",
        "  - Babysetting has been applied (hyperparameter, learning rates, regularization, ...) and for the architecture the relu function was added after each Conv2d layer (it wasn't required in the given architecture)\n",
        "  - All the required optimizers have been tried and reported, the selected one was Adam (the most desired results)\n",
        "  - Train, val and test data all have been reported as required \n",
        "  - One of the changes applied that can improve the model in my result is to add batchNormalization (more than one) as has been implented and reported  \n",
        "\n",
        "- Part -2\n",
        "  - Transfare learning has been implemented and reported as required"
      ]
    }
  ],
  "metadata": {
    "colab": {
      "collapsed_sections": [],
      "name": "CNN & Transfer learning NN.ipynb",
      "provenance": []
    },
    "kernelspec": {
      "display_name": "Python 3",
      "name": "python3"
    },
    "language_info": {
      "name": "python"
    },
    "widgets": {
      "application/vnd.jupyter.widget-state+json": {
        "013ad458b6a24c748422cd4eeb051b38": {
          "model_module": "@jupyter-widgets/base",
          "model_module_version": "1.2.0",
          "model_name": "LayoutModel",
          "state": {
            "_model_module": "@jupyter-widgets/base",
            "_model_module_version": "1.2.0",
            "_model_name": "LayoutModel",
            "_view_count": null,
            "_view_module": "@jupyter-widgets/base",
            "_view_module_version": "1.2.0",
            "_view_name": "LayoutView",
            "align_content": null,
            "align_items": null,
            "align_self": null,
            "border": null,
            "bottom": null,
            "display": null,
            "flex": null,
            "flex_flow": null,
            "grid_area": null,
            "grid_auto_columns": null,
            "grid_auto_flow": null,
            "grid_auto_rows": null,
            "grid_column": null,
            "grid_gap": null,
            "grid_row": null,
            "grid_template_areas": null,
            "grid_template_columns": null,
            "grid_template_rows": null,
            "height": null,
            "justify_content": null,
            "justify_items": null,
            "left": null,
            "margin": null,
            "max_height": null,
            "max_width": null,
            "min_height": null,
            "min_width": null,
            "object_fit": null,
            "object_position": null,
            "order": null,
            "overflow": null,
            "overflow_x": null,
            "overflow_y": null,
            "padding": null,
            "right": null,
            "top": null,
            "visibility": null,
            "width": null
          }
        },
        "151aec70b2db46a793452bd5391455d8": {
          "model_module": "@jupyter-widgets/controls",
          "model_module_version": "1.5.0",
          "model_name": "HTMLModel",
          "state": {
            "_dom_classes": [],
            "_model_module": "@jupyter-widgets/controls",
            "_model_module_version": "1.5.0",
            "_model_name": "HTMLModel",
            "_view_count": null,
            "_view_module": "@jupyter-widgets/controls",
            "_view_module_version": "1.5.0",
            "_view_name": "HTMLView",
            "description": "",
            "description_tooltip": null,
            "layout": "IPY_MODEL_f33506eb903b4e52a66c4b6236a4fa68",
            "placeholder": "​",
            "style": "IPY_MODEL_3dd97c145a604da5b198df3eb31e75f4",
            "value": " 528M/528M [00:06&lt;00:00, 81.7MB/s]"
          }
        },
        "1a02e2d0c84e45869a0d6922b904d767": {
          "model_module": "@jupyter-widgets/controls",
          "model_module_version": "1.5.0",
          "model_name": "DescriptionStyleModel",
          "state": {
            "_model_module": "@jupyter-widgets/controls",
            "_model_module_version": "1.5.0",
            "_model_name": "DescriptionStyleModel",
            "_view_count": null,
            "_view_module": "@jupyter-widgets/base",
            "_view_module_version": "1.2.0",
            "_view_name": "StyleView",
            "description_width": ""
          }
        },
        "3dd97c145a604da5b198df3eb31e75f4": {
          "model_module": "@jupyter-widgets/controls",
          "model_module_version": "1.5.0",
          "model_name": "DescriptionStyleModel",
          "state": {
            "_model_module": "@jupyter-widgets/controls",
            "_model_module_version": "1.5.0",
            "_model_name": "DescriptionStyleModel",
            "_view_count": null,
            "_view_module": "@jupyter-widgets/base",
            "_view_module_version": "1.2.0",
            "_view_name": "StyleView",
            "description_width": ""
          }
        },
        "5bbf700f8ecf46f8b59a500d36e0dbbf": {
          "model_module": "@jupyter-widgets/base",
          "model_module_version": "1.2.0",
          "model_name": "LayoutModel",
          "state": {
            "_model_module": "@jupyter-widgets/base",
            "_model_module_version": "1.2.0",
            "_model_name": "LayoutModel",
            "_view_count": null,
            "_view_module": "@jupyter-widgets/base",
            "_view_module_version": "1.2.0",
            "_view_name": "LayoutView",
            "align_content": null,
            "align_items": null,
            "align_self": null,
            "border": null,
            "bottom": null,
            "display": null,
            "flex": null,
            "flex_flow": null,
            "grid_area": null,
            "grid_auto_columns": null,
            "grid_auto_flow": null,
            "grid_auto_rows": null,
            "grid_column": null,
            "grid_gap": null,
            "grid_row": null,
            "grid_template_areas": null,
            "grid_template_columns": null,
            "grid_template_rows": null,
            "height": null,
            "justify_content": null,
            "justify_items": null,
            "left": null,
            "margin": null,
            "max_height": null,
            "max_width": null,
            "min_height": null,
            "min_width": null,
            "object_fit": null,
            "object_position": null,
            "order": null,
            "overflow": null,
            "overflow_x": null,
            "overflow_y": null,
            "padding": null,
            "right": null,
            "top": null,
            "visibility": null,
            "width": null
          }
        },
        "87476fe745cd4d67bf04242e4557d3e3": {
          "model_module": "@jupyter-widgets/controls",
          "model_module_version": "1.5.0",
          "model_name": "HTMLModel",
          "state": {
            "_dom_classes": [],
            "_model_module": "@jupyter-widgets/controls",
            "_model_module_version": "1.5.0",
            "_model_name": "HTMLModel",
            "_view_count": null,
            "_view_module": "@jupyter-widgets/controls",
            "_view_module_version": "1.5.0",
            "_view_name": "HTMLView",
            "description": "",
            "description_tooltip": null,
            "layout": "IPY_MODEL_5bbf700f8ecf46f8b59a500d36e0dbbf",
            "placeholder": "​",
            "style": "IPY_MODEL_1a02e2d0c84e45869a0d6922b904d767",
            "value": "100%"
          }
        },
        "ad60aabc3fab4b7e857699ca9d684c35": {
          "model_module": "@jupyter-widgets/base",
          "model_module_version": "1.2.0",
          "model_name": "LayoutModel",
          "state": {
            "_model_module": "@jupyter-widgets/base",
            "_model_module_version": "1.2.0",
            "_model_name": "LayoutModel",
            "_view_count": null,
            "_view_module": "@jupyter-widgets/base",
            "_view_module_version": "1.2.0",
            "_view_name": "LayoutView",
            "align_content": null,
            "align_items": null,
            "align_self": null,
            "border": null,
            "bottom": null,
            "display": null,
            "flex": null,
            "flex_flow": null,
            "grid_area": null,
            "grid_auto_columns": null,
            "grid_auto_flow": null,
            "grid_auto_rows": null,
            "grid_column": null,
            "grid_gap": null,
            "grid_row": null,
            "grid_template_areas": null,
            "grid_template_columns": null,
            "grid_template_rows": null,
            "height": null,
            "justify_content": null,
            "justify_items": null,
            "left": null,
            "margin": null,
            "max_height": null,
            "max_width": null,
            "min_height": null,
            "min_width": null,
            "object_fit": null,
            "object_position": null,
            "order": null,
            "overflow": null,
            "overflow_x": null,
            "overflow_y": null,
            "padding": null,
            "right": null,
            "top": null,
            "visibility": null,
            "width": null
          }
        },
        "af16575f841f44868d1fccd21664ad0c": {
          "model_module": "@jupyter-widgets/controls",
          "model_module_version": "1.5.0",
          "model_name": "HBoxModel",
          "state": {
            "_dom_classes": [],
            "_model_module": "@jupyter-widgets/controls",
            "_model_module_version": "1.5.0",
            "_model_name": "HBoxModel",
            "_view_count": null,
            "_view_module": "@jupyter-widgets/controls",
            "_view_module_version": "1.5.0",
            "_view_name": "HBoxView",
            "box_style": "",
            "children": [
              "IPY_MODEL_87476fe745cd4d67bf04242e4557d3e3",
              "IPY_MODEL_ba3dbe3876004aa89600632e569a923e",
              "IPY_MODEL_151aec70b2db46a793452bd5391455d8"
            ],
            "layout": "IPY_MODEL_013ad458b6a24c748422cd4eeb051b38"
          }
        },
        "ba3dbe3876004aa89600632e569a923e": {
          "model_module": "@jupyter-widgets/controls",
          "model_module_version": "1.5.0",
          "model_name": "FloatProgressModel",
          "state": {
            "_dom_classes": [],
            "_model_module": "@jupyter-widgets/controls",
            "_model_module_version": "1.5.0",
            "_model_name": "FloatProgressModel",
            "_view_count": null,
            "_view_module": "@jupyter-widgets/controls",
            "_view_module_version": "1.5.0",
            "_view_name": "ProgressView",
            "bar_style": "success",
            "description": "",
            "description_tooltip": null,
            "layout": "IPY_MODEL_ad60aabc3fab4b7e857699ca9d684c35",
            "max": 553433881,
            "min": 0,
            "orientation": "horizontal",
            "style": "IPY_MODEL_eceb791dc7ba43c3b45394dc9349a2fe",
            "value": 553433881
          }
        },
        "eceb791dc7ba43c3b45394dc9349a2fe": {
          "model_module": "@jupyter-widgets/controls",
          "model_module_version": "1.5.0",
          "model_name": "ProgressStyleModel",
          "state": {
            "_model_module": "@jupyter-widgets/controls",
            "_model_module_version": "1.5.0",
            "_model_name": "ProgressStyleModel",
            "_view_count": null,
            "_view_module": "@jupyter-widgets/base",
            "_view_module_version": "1.2.0",
            "_view_name": "StyleView",
            "bar_color": null,
            "description_width": ""
          }
        },
        "f33506eb903b4e52a66c4b6236a4fa68": {
          "model_module": "@jupyter-widgets/base",
          "model_module_version": "1.2.0",
          "model_name": "LayoutModel",
          "state": {
            "_model_module": "@jupyter-widgets/base",
            "_model_module_version": "1.2.0",
            "_model_name": "LayoutModel",
            "_view_count": null,
            "_view_module": "@jupyter-widgets/base",
            "_view_module_version": "1.2.0",
            "_view_name": "LayoutView",
            "align_content": null,
            "align_items": null,
            "align_self": null,
            "border": null,
            "bottom": null,
            "display": null,
            "flex": null,
            "flex_flow": null,
            "grid_area": null,
            "grid_auto_columns": null,
            "grid_auto_flow": null,
            "grid_auto_rows": null,
            "grid_column": null,
            "grid_gap": null,
            "grid_row": null,
            "grid_template_areas": null,
            "grid_template_columns": null,
            "grid_template_rows": null,
            "height": null,
            "justify_content": null,
            "justify_items": null,
            "left": null,
            "margin": null,
            "max_height": null,
            "max_width": null,
            "min_height": null,
            "min_width": null,
            "object_fit": null,
            "object_position": null,
            "order": null,
            "overflow": null,
            "overflow_x": null,
            "overflow_y": null,
            "padding": null,
            "right": null,
            "top": null,
            "visibility": null,
            "width": null
          }
        }
      }
    }
  },
  "nbformat": 4,
  "nbformat_minor": 0
}
